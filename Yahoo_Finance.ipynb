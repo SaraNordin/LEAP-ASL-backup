{
 "cells": [
  {
   "cell_type": "markdown",
   "metadata": {},
   "source": [
    "# Setup"
   ]
  },
  {
   "cell_type": "code",
   "execution_count": 1,
   "metadata": {},
   "outputs": [],
   "source": [
    "import yfinance as yf\n",
    "import pandas as pd\n",
    "import numpy as np\n",
    "\n",
    "from matplotlib import pyplot as plt\n",
    "from IPython.display import display\n",
    "\n",
    "pd.options.mode.chained_assignment = None  # default='warn'"
   ]
  },
  {
   "cell_type": "markdown",
   "metadata": {
    "heading_collapsed": true
   },
   "source": [
    "# Function definitions"
   ]
  },
  {
   "cell_type": "code",
   "execution_count": null,
   "metadata": {
    "hidden": true,
    "scrolled": false
   },
   "outputs": [],
   "source": [
    "def visualize_stock_history(df, vol_window, trading_days):\n",
    "    \"\"\"hello, documentation maybe\n",
    "    \"\"\"\n",
    "    \n",
    "    plt.figure()\n",
    "    plt.plot(df.Close)\n",
    "    plt.title(\"Daily stock closing price\")\n",
    "    plt.plot()\n",
    "\n",
    "    plt.figure()\n",
    "    plt.plot(df.Close-df.Open)\n",
    "    plt.title(\"Daily stock price change (Close-Open)\")\n",
    "    plt.plot()\n",
    "\n",
    "    plt.figure()\n",
    "    plt.plot(df.High-df.Low)\n",
    "    plt.title(\"Daily stock maximum spread (High-Low)\")\n",
    "    plt.plot()\n",
    "\n",
    "    plt.figure()\n",
    "    plt.plot(df.Volume)\n",
    "    plt.title(\"Daily stock trade volume\")\n",
    "    plt.plot()\n",
    "    \n",
    "    vol = df.Close.pct_change().rolling(vol_window).std()*(trading_days**0.5)\n",
    "    plt.figure()\n",
    "    plt.plot(vol)\n",
    "    plt.title( str(vol_window) + \" days historical volatility (annualised)\")\n",
    "    plt.show()\n",
    "    \n",
    "    if not all(df.Dividends == 0):\n",
    "        \n",
    "        plt.figure()\n",
    "        plt.plot(df.Dividends)\n",
    "        plt.title(\"Historical dividends\")\n",
    "        plt.show()\n",
    "        \n",
    "    if not all(df[\"Stock Splits\"] == 0):\n",
    "        \n",
    "        plt.figure()\n",
    "        plt.plot(df[\"Stock Splits\"])\n",
    "        plt.title(\"Historical stock splits\")\n",
    "        plt.show()\n",
    "    "
   ]
  },
  {
   "cell_type": "code",
   "execution_count": null,
   "metadata": {
    "hidden": true
   },
   "outputs": [],
   "source": [
    "def show_company_fundamentals(ticker):    \n",
    "    # show major holders\n",
    "    display(ticker.major_holders)\n",
    "\n",
    "    # show institutional holders\n",
    "    display(ticker.institutional_holders.head())\n",
    "\n",
    "    # show sustainability\n",
    "    display(ticker.sustainability[~ticker.sustainability.Value.isin([False, None])])\n",
    "\n",
    "    # show financials, if the data exists (is financials = balance sheet, cash flow and earnings?)\n",
    "    if len(ticker.financials > 0):\n",
    "        display(ticker.financials)\n",
    "        display(ticker.quarterly_financials)\n",
    "\n",
    "    if len(ticker.balance_sheet > 0):\n",
    "        display(ticker.balance_sheet)\n",
    "        display(ticker.quarterly_balance_sheet)\n",
    "\n",
    "    if len(ticker.cashflow > 0):\n",
    "        display(ticker.cashflow)\n",
    "        display(ticker.quarterly_cashflow)\n",
    "\n",
    "    if len(ticker.earnings > 0):\n",
    "        display(ticker.earnings)\n",
    "        display(ticker.quarterly_earnings)"
   ]
  },
  {
   "cell_type": "code",
   "execution_count": null,
   "metadata": {
    "hidden": true
   },
   "outputs": [],
   "source": [
    "def analyst_recommendations(ticker):\n",
    "    rec_df = ticker.recommendations\n",
    "    rec_df = rec_df.loc[rec_df[\"To Grade\"] != \"\"]\n",
    "    grade_vec = rec_df[\"To Grade\"]\n",
    "\n",
    "    map_to_1 = ['Buy', 'Positive']\n",
    "    map_to_2 = ['Outperform', 'Overweight', 'Market Outperform']\n",
    "    map_to_3 = ['Hold', 'Neutral', 'Equal-Weight', 'Market Perform', 'Sector Perform', \\\n",
    "                'Perform', 'Sector Weight', 'Peer Perform', 'In-Line']\n",
    "    map_to_4 = ['Underperform', 'Underweight', 'Market Underperform', 'Underperformer']\n",
    "    map_to_5 = ['Sell']\n",
    "\n",
    "    my_dict = {}\n",
    "    my_dict.update(dict.fromkeys(map_to_1, 1))\n",
    "    my_dict.update(dict.fromkeys(map_to_2, 2))\n",
    "    my_dict.update(dict.fromkeys(map_to_3, 3))\n",
    "    my_dict.update(dict.fromkeys(map_to_4, 4))\n",
    "    my_dict.update(dict.fromkeys(map_to_5, 5))\n",
    "    \n",
    "    grade_vec = grade_vec.map(my_dict).astype(int)\n",
    "    rec_df[\"Grade\"] = grade_vec\n",
    "    df1 = rec_df[rec_df.isna().any(axis=1)]\n",
    "    if len(df1) > 0:\n",
    "        print(\"Some ratings were undefined\")\n",
    "        display(df1)\n",
    "        rec_df = rec_df.dropna()\n",
    "    \n",
    "    tmp = rec_df.copy()\n",
    "    tmp = tmp.drop([\"Firm\", \"To Grade\", \"From Grade\", \"Action\"], axis = 1)\n",
    "    tmp.Grade = tmp.Grade.astype(int)\n",
    "    # print(tmp.dtypes)\n",
    "    tmp = tmp.to_period('M').groupby(pd.Grouper(freq=\"Q\")).mean()\n",
    "    tmp = tmp.dropna(axis = 0)\n",
    "    tmp.index = tmp.index.to_timestamp()\n",
    "\n",
    "    plt.figure(figsize = (15, 5))\n",
    "    plt.plot(rec_df.Grade, '.-', label = \"Stock rating\")\n",
    "    plt.plot(tmp.index, tmp.Grade, 'o-', label = \"Quarterly rating\", linewidth = 2.5)\n",
    "    plt.title(\"An overview over changes in stock rating\")\n",
    "    plt.yticks(range(1, 5))\n",
    "    plt.gca().invert_yaxis()\n",
    "    plt.legend()\n",
    "    plt.show()"
   ]
  },
  {
   "cell_type": "markdown",
   "metadata": {
    "heading_collapsed": true,
    "hidden": true
   },
   "source": [
    "## Options analysis functions"
   ]
  },
  {
   "cell_type": "code",
   "execution_count": null,
   "metadata": {
    "hidden": true
   },
   "outputs": [],
   "source": [
    "def call_put_visualisation(stock_ref):\n",
    "    \"\"\"Visualize call/put volumes and ITM fractions for all upcoming expiry dates \n",
    "    \"\"\"\n",
    "    \n",
    "    options_expiry = stock_ref.options\n",
    "    call_frac_ITM = []\n",
    "    put_frac_ITM = []\n",
    "    call_vols = []\n",
    "    put_vols = []\n",
    "\n",
    "    for exp_date in options_expiry:\n",
    "        options = stock_ref.option_chain(exp_date)\n",
    "\n",
    "        puts_df = options.puts\n",
    "        calls_df = options.calls\n",
    "\n",
    "        # Check volume of call/put options by expiration \n",
    "        call_vol = calls_df.volume.sum()\n",
    "        put_vol = puts_df.volume.sum()\n",
    "        call_vols.append(call_vol)\n",
    "        put_vols.append(put_vol)\n",
    "\n",
    "        # Check fraction of options that are in/out of the money\n",
    "        sum_ITM = puts_df[puts_df.inTheMoney == True].volume.sum()\n",
    "        sum_OTM = puts_df[puts_df.inTheMoney == False].volume.sum()\n",
    "        if sum_ITM == 0 and sum_OTM == 0:\n",
    "            frac_ITM = 0\n",
    "        else:     \n",
    "            frac_ITM = sum_ITM / (sum_ITM + sum_OTM)\n",
    "        put_frac_ITM.append(frac_ITM)\n",
    "\n",
    "        sum_ITM = calls_df[calls_df.inTheMoney == True].volume.sum()\n",
    "        sum_OTM = calls_df[calls_df.inTheMoney == False].volume.sum()\n",
    "        if sum_ITM == 0 and sum_OTM == 0:\n",
    "            frac_ITM = 0\n",
    "        else:     \n",
    "            frac_ITM = sum_ITM / (sum_ITM + sum_OTM)\n",
    "        call_frac_ITM.append(frac_ITM)\n",
    "\n",
    "    plt.figure(figsize = (12, 5))\n",
    "    plt.plot(options_expiry, call_vols, 'o-', label = \"Total call option volume\")\n",
    "    plt.plot(options_expiry, put_vols, 'o-', label = \"Total put option volume\")\n",
    "    plt.xticks(rotation = 45)\n",
    "    plt.title(\"Option volumes vs expiry date\")\n",
    "    plt.legend()\n",
    "    plt.show()\n",
    "\n",
    "    plt.figure(figsize = (12, 5))\n",
    "    plt.plot(options_expiry, call_frac_ITM, 'o-', label = \"Calls ITM\")\n",
    "    plt.plot(options_expiry, put_frac_ITM, 'o-', label = \"Puts ITM\")\n",
    "    plt.xticks(rotation = 45)\n",
    "    plt.title(\"Fraction of Call and Put contract that are ITM, based on expiry date\")\n",
    "    plt.legend()\n",
    "    plt.show()"
   ]
  },
  {
   "cell_type": "code",
   "execution_count": null,
   "metadata": {
    "hidden": true,
    "scrolled": false
   },
   "outputs": [],
   "source": [
    "def single_expiry_plot(df, exp_date, title_string):\n",
    "    \n",
    "    df[\"spread\"] = df.ask - df.bid\n",
    "    plot_max = max(max(df.spread), max(df.impliedVolatility))\n",
    "\n",
    "    if (puts_df.contractSize.unique()[0] != \"REGULAR\"): \n",
    "        print(exp_date)\n",
    "        print(puts_df.contractSize.value_counts())\n",
    "\n",
    "    plt.plot(df.strike, df.spread, label = \"Bid-Ask spread\")\n",
    "    plt.plot(df.strike, df.impliedVolatility, label = \"Implied Vol\")\n",
    "    plt.vlines(prev_stock_val, 0, plot_max, label = \"Last close val\")\n",
    "    plt.title(title_string + \" option characteristics for different strikes: \" + str(exp_date))\n",
    "    plt.legend()    \n",
    "\n",
    "def option_spread_analysis(ticker):\n",
    "    prev_stock_val = ticker.info.get(\"previousClose\") # most recent stock closing value\n",
    "\n",
    "    for exp_date in ticker.options:\n",
    "\n",
    "        opt = ticker.option_chain(exp_date)\n",
    "        puts_df = opt.puts\n",
    "        calls_df = opt.calls\n",
    "        puts_df = puts_df[puts_df.volume.notna()]\n",
    "        calls_df = calls_df[calls_df.volume.notna()]\n",
    "        \n",
    "        if len(puts_df) > 0 and len (calls_df) > 0:\n",
    "            \n",
    "            plt.figure(figsize=(16, 5))\n",
    "            plt.subplot(1, 2, 1)\n",
    "            title_string = \"Put\"\n",
    "            single_expiry_plot(puts_df, exp_date, title_string)\n",
    "\n",
    "            plt.subplot(1, 2, 2)\n",
    "            title_string = \"Call\"\n",
    "            single_expiry_plot(calls_df, exp_date, title_string)\n",
    "            plt.show()"
   ]
  },
  {
   "cell_type": "markdown",
   "metadata": {},
   "source": [
    "# SP500 stocks"
   ]
  },
  {
   "cell_type": "code",
   "execution_count": 2,
   "metadata": {},
   "outputs": [
    {
     "data": {
      "text/plain": [
       "Industrials               73\n",
       "Information Technology    71\n",
       "Financials                66\n",
       "Health Care               62\n",
       "Consumer Discretionary    61\n",
       "Consumer Staples          33\n",
       "Real Estate               31\n",
       "Materials                 28\n",
       "Utilities                 28\n",
       "Communication Services    26\n",
       "Energy                    26\n",
       "Name: Sector, dtype: int64"
      ]
     },
     "execution_count": 2,
     "metadata": {},
     "output_type": "execute_result"
    }
   ],
   "source": [
    "# shift + tab to get function documentation\n",
    "SP500_df = pd.read_csv(\"constituents.csv\")\n",
    "SP500_df.Sector.value_counts()"
   ]
  },
  {
   "cell_type": "code",
   "execution_count": 12,
   "metadata": {},
   "outputs": [
    {
     "name": "stdout",
     "output_type": "stream",
     "text": [
      "[*********************100%***********************]  2 of 2 completed\n"
     ]
    }
   ],
   "source": [
    "#start_date = \"2020-01-01\"\n",
    "#end_date = \"2020-07-01\"\n",
    "\n",
    "company_list = SP500_df[SP500_df.Sector == \"Consumer Discretionary\"].Symbol\n",
    "test = yf.Tickers([\"GS\", \"TSLA\"])\n",
    "test_df = test.history(period = \"1y\")\n",
    "#test_df = test.history(start=start_date, end=end_date)"
   ]
  },
  {
   "cell_type": "code",
   "execution_count": 10,
   "metadata": {},
   "outputs": [
    {
     "data": {
      "text/html": [
       "<div>\n",
       "<style scoped>\n",
       "    .dataframe tbody tr th:only-of-type {\n",
       "        vertical-align: middle;\n",
       "    }\n",
       "\n",
       "    .dataframe tbody tr th {\n",
       "        vertical-align: top;\n",
       "    }\n",
       "\n",
       "    .dataframe thead tr th {\n",
       "        text-align: left;\n",
       "    }\n",
       "\n",
       "    .dataframe thead tr:last-of-type th {\n",
       "        text-align: right;\n",
       "    }\n",
       "</style>\n",
       "<table border=\"1\" class=\"dataframe\">\n",
       "  <thead>\n",
       "    <tr>\n",
       "      <th></th>\n",
       "      <th colspan=\"2\" halign=\"left\">Close</th>\n",
       "      <th colspan=\"2\" halign=\"left\">Dividends</th>\n",
       "      <th colspan=\"2\" halign=\"left\">High</th>\n",
       "      <th colspan=\"2\" halign=\"left\">Low</th>\n",
       "      <th colspan=\"2\" halign=\"left\">Open</th>\n",
       "      <th colspan=\"2\" halign=\"left\">Stock Splits</th>\n",
       "      <th colspan=\"2\" halign=\"left\">Volume</th>\n",
       "    </tr>\n",
       "    <tr>\n",
       "      <th></th>\n",
       "      <th>GS</th>\n",
       "      <th>TSLA</th>\n",
       "      <th>GS</th>\n",
       "      <th>TSLA</th>\n",
       "      <th>GS</th>\n",
       "      <th>TSLA</th>\n",
       "      <th>GS</th>\n",
       "      <th>TSLA</th>\n",
       "      <th>GS</th>\n",
       "      <th>TSLA</th>\n",
       "      <th>GS</th>\n",
       "      <th>TSLA</th>\n",
       "      <th>GS</th>\n",
       "      <th>TSLA</th>\n",
       "    </tr>\n",
       "    <tr>\n",
       "      <th>Date</th>\n",
       "      <th></th>\n",
       "      <th></th>\n",
       "      <th></th>\n",
       "      <th></th>\n",
       "      <th></th>\n",
       "      <th></th>\n",
       "      <th></th>\n",
       "      <th></th>\n",
       "      <th></th>\n",
       "      <th></th>\n",
       "      <th></th>\n",
       "      <th></th>\n",
       "      <th></th>\n",
       "      <th></th>\n",
       "    </tr>\n",
       "  </thead>\n",
       "  <tbody>\n",
       "    <tr>\n",
       "      <th>2019-10-14</th>\n",
       "      <td>200.942001</td>\n",
       "      <td>51.391998</td>\n",
       "      <td>0.0</td>\n",
       "      <td>0</td>\n",
       "      <td>201.283697</td>\n",
       "      <td>51.709999</td>\n",
       "      <td>198.110723</td>\n",
       "      <td>49.425999</td>\n",
       "      <td>198.999160</td>\n",
       "      <td>49.580002</td>\n",
       "      <td>0</td>\n",
       "      <td>0.0</td>\n",
       "      <td>2286100</td>\n",
       "      <td>51025000</td>\n",
       "    </tr>\n",
       "    <tr>\n",
       "      <th>2019-10-15</th>\n",
       "      <td>201.566833</td>\n",
       "      <td>51.577999</td>\n",
       "      <td>0.0</td>\n",
       "      <td>0</td>\n",
       "      <td>203.304646</td>\n",
       "      <td>52.000000</td>\n",
       "      <td>193.902875</td>\n",
       "      <td>50.824001</td>\n",
       "      <td>197.212530</td>\n",
       "      <td>51.540001</td>\n",
       "      <td>0</td>\n",
       "      <td>0.0</td>\n",
       "      <td>8241900</td>\n",
       "      <td>32164000</td>\n",
       "    </tr>\n",
       "    <tr>\n",
       "      <th>2019-10-16</th>\n",
       "      <td>202.504074</td>\n",
       "      <td>51.950001</td>\n",
       "      <td>0.0</td>\n",
       "      <td>0</td>\n",
       "      <td>203.675631</td>\n",
       "      <td>52.419998</td>\n",
       "      <td>201.215366</td>\n",
       "      <td>51.383999</td>\n",
       "      <td>201.283700</td>\n",
       "      <td>51.478001</td>\n",
       "      <td>0</td>\n",
       "      <td>0.0</td>\n",
       "      <td>3405800</td>\n",
       "      <td>33420500</td>\n",
       "    </tr>\n",
       "    <tr>\n",
       "      <th>2019-10-17</th>\n",
       "      <td>201.566833</td>\n",
       "      <td>52.394001</td>\n",
       "      <td>0.0</td>\n",
       "      <td>0</td>\n",
       "      <td>203.978280</td>\n",
       "      <td>52.956001</td>\n",
       "      <td>199.545886</td>\n",
       "      <td>52.034000</td>\n",
       "      <td>203.353449</td>\n",
       "      <td>52.500000</td>\n",
       "      <td>0</td>\n",
       "      <td>0.0</td>\n",
       "      <td>2876500</td>\n",
       "      <td>23846500</td>\n",
       "    </tr>\n",
       "    <tr>\n",
       "      <th>2019-10-18</th>\n",
       "      <td>201.625427</td>\n",
       "      <td>51.389999</td>\n",
       "      <td>0.0</td>\n",
       "      <td>0</td>\n",
       "      <td>203.128922</td>\n",
       "      <td>52.560001</td>\n",
       "      <td>200.131690</td>\n",
       "      <td>51.020000</td>\n",
       "      <td>200.131690</td>\n",
       "      <td>52.139999</td>\n",
       "      <td>0</td>\n",
       "      <td>0.0</td>\n",
       "      <td>2207000</td>\n",
       "      <td>28749000</td>\n",
       "    </tr>\n",
       "  </tbody>\n",
       "</table>\n",
       "</div>"
      ],
      "text/plain": [
       "                 Close            Dividends             High             \\\n",
       "                    GS       TSLA        GS TSLA          GS       TSLA   \n",
       "Date                                                                      \n",
       "2019-10-14  200.942001  51.391998       0.0    0  201.283697  51.709999   \n",
       "2019-10-15  201.566833  51.577999       0.0    0  203.304646  52.000000   \n",
       "2019-10-16  202.504074  51.950001       0.0    0  203.675631  52.419998   \n",
       "2019-10-17  201.566833  52.394001       0.0    0  203.978280  52.956001   \n",
       "2019-10-18  201.625427  51.389999       0.0    0  203.128922  52.560001   \n",
       "\n",
       "                   Low                   Open            Stock Splits       \\\n",
       "                    GS       TSLA          GS       TSLA           GS TSLA   \n",
       "Date                                                                         \n",
       "2019-10-14  198.110723  49.425999  198.999160  49.580002            0  0.0   \n",
       "2019-10-15  193.902875  50.824001  197.212530  51.540001            0  0.0   \n",
       "2019-10-16  201.215366  51.383999  201.283700  51.478001            0  0.0   \n",
       "2019-10-17  199.545886  52.034000  203.353449  52.500000            0  0.0   \n",
       "2019-10-18  200.131690  51.020000  200.131690  52.139999            0  0.0   \n",
       "\n",
       "             Volume            \n",
       "                 GS      TSLA  \n",
       "Date                           \n",
       "2019-10-14  2286100  51025000  \n",
       "2019-10-15  8241900  32164000  \n",
       "2019-10-16  3405800  33420500  \n",
       "2019-10-17  2876500  23846500  \n",
       "2019-10-18  2207000  28749000  "
      ]
     },
     "execution_count": 10,
     "metadata": {},
     "output_type": "execute_result"
    }
   ],
   "source": [
    "test_df.head()"
   ]
  },
  {
   "cell_type": "code",
   "execution_count": 22,
   "metadata": {},
   "outputs": [
    {
     "data": {
      "image/png": "[encoded data removed]",
      "text/plain": [
       "<Figure size 432x288 with 1 Axes>"
      ]
     },
     "metadata": {
      "needs_background": "light"
     },
     "output_type": "display_data"
    },
    {
     "data": {
      "image/png": "[encoded data removed]",
      "text/plain": [
       "<Figure size 432x288 with 1 Axes>"
      ]
     },
     "metadata": {
      "needs_background": "light"
     },
     "output_type": "display_data"
    }
   ],
   "source": [
    "plt.plot(test_df.Close, label = {\"GS\", \"TSLA\"})\n",
    "plt.legend()\n",
    "plt.show()\n",
    "\n",
    "x = test_df.index\n",
    "y = [test_df.Close.GS, test_df.Close.TSLA]\n",
    "labels = [\"GS\", \"TSLA\"]\n",
    "\n",
    "plt.figure()\n",
    "for y_arr, label in zip(y, labels):\n",
    "    plt.plot(x, y_arr, label=label)\n",
    "\n",
    "plt.legend()\n",
    "plt.show()"
   ]
  },
  {
   "cell_type": "code",
   "execution_count": 24,
   "metadata": {},
   "outputs": [
    {
     "ename": "AttributeError",
     "evalue": "'DataFrame' object has no attribute 'to_series'",
     "output_type": "error",
     "traceback": [
      "\u001b[1;31m---------------------------------------------------------------------------\u001b[0m",
      "\u001b[1;31mAttributeError\u001b[0m                            Traceback (most recent call last)",
      "\u001b[1;32m<ipython-input-24-5bc7683045f3>\u001b[0m in \u001b[0;36m<module>\u001b[1;34m\u001b[0m\n\u001b[1;32m----> 1\u001b[1;33m \u001b[0mtest_df\u001b[0m\u001b[1;33m.\u001b[0m\u001b[0mClose\u001b[0m\u001b[1;33m.\u001b[0m\u001b[0mto_series\u001b[0m\u001b[1;33m(\u001b[0m\u001b[1;33m)\u001b[0m\u001b[1;33m\u001b[0m\u001b[1;33m\u001b[0m\u001b[0m\n\u001b[0m",
      "\u001b[1;32m~\\anaconda3\\lib\\site-packages\\pandas\\core\\generic.py\u001b[0m in \u001b[0;36m__getattr__\u001b[1;34m(self, name)\u001b[0m\n\u001b[0;32m   5272\u001b[0m             \u001b[1;32mif\u001b[0m \u001b[0mself\u001b[0m\u001b[1;33m.\u001b[0m\u001b[0m_info_axis\u001b[0m\u001b[1;33m.\u001b[0m\u001b[0m_can_hold_identifiers_and_holds_name\u001b[0m\u001b[1;33m(\u001b[0m\u001b[0mname\u001b[0m\u001b[1;33m)\u001b[0m\u001b[1;33m:\u001b[0m\u001b[1;33m\u001b[0m\u001b[1;33m\u001b[0m\u001b[0m\n\u001b[0;32m   5273\u001b[0m                 \u001b[1;32mreturn\u001b[0m \u001b[0mself\u001b[0m\u001b[1;33m[\u001b[0m\u001b[0mname\u001b[0m\u001b[1;33m]\u001b[0m\u001b[1;33m\u001b[0m\u001b[1;33m\u001b[0m\u001b[0m\n\u001b[1;32m-> 5274\u001b[1;33m             \u001b[1;32mreturn\u001b[0m \u001b[0mobject\u001b[0m\u001b[1;33m.\u001b[0m\u001b[0m__getattribute__\u001b[0m\u001b[1;33m(\u001b[0m\u001b[0mself\u001b[0m\u001b[1;33m,\u001b[0m \u001b[0mname\u001b[0m\u001b[1;33m)\u001b[0m\u001b[1;33m\u001b[0m\u001b[1;33m\u001b[0m\u001b[0m\n\u001b[0m\u001b[0;32m   5275\u001b[0m \u001b[1;33m\u001b[0m\u001b[0m\n\u001b[0;32m   5276\u001b[0m     \u001b[1;32mdef\u001b[0m \u001b[0m__setattr__\u001b[0m\u001b[1;33m(\u001b[0m\u001b[0mself\u001b[0m\u001b[1;33m,\u001b[0m \u001b[0mname\u001b[0m\u001b[1;33m:\u001b[0m \u001b[0mstr\u001b[0m\u001b[1;33m,\u001b[0m \u001b[0mvalue\u001b[0m\u001b[1;33m)\u001b[0m \u001b[1;33m->\u001b[0m \u001b[1;32mNone\u001b[0m\u001b[1;33m:\u001b[0m\u001b[1;33m\u001b[0m\u001b[1;33m\u001b[0m\u001b[0m\n",
      "\u001b[1;31mAttributeError\u001b[0m: 'DataFrame' object has no attribute 'to_series'"
     ]
    }
   ],
   "source": [
    "test_df.Close.to_series()"
   ]
  },
  {
   "cell_type": "markdown",
   "metadata": {},
   "source": [
    "# Stock intro"
   ]
  },
  {
   "cell_type": "code",
   "execution_count": null,
   "metadata": {},
   "outputs": [],
   "source": [
    "# Microsoft\n",
    "msft = yf.Ticker(\"MSFT\")\n",
    "msft.info"
   ]
  },
  {
   "cell_type": "code",
   "execution_count": null,
   "metadata": {},
   "outputs": [],
   "source": [
    "# Tesla\n",
    "tsla = yf.Ticker(\"TSLA\")\n",
    "tsla_df = tsla.history(period = \"max\")\n",
    "tsla_df.head()"
   ]
  },
  {
   "cell_type": "markdown",
   "metadata": {},
   "source": [
    "# Analysis: Goldman Sachs"
   ]
  },
  {
   "cell_type": "markdown",
   "metadata": {
    "heading_collapsed": true
   },
   "source": [
    "## Intro"
   ]
  },
  {
   "cell_type": "code",
   "execution_count": null,
   "metadata": {
    "hidden": true
   },
   "outputs": [],
   "source": [
    "gs = yf.Ticker(\"GS\")\n",
    "gs_df = gs.history(\"max\")\n",
    "gs_df.head()"
   ]
  },
  {
   "cell_type": "code",
   "execution_count": null,
   "metadata": {
    "hidden": true
   },
   "outputs": [],
   "source": [
    "trading_days = 252\n",
    "vol_window = 20\n",
    "\n",
    "visualize_stock_history(gs_df, vol_window, trading_days)\n",
    "\n",
    "# could use ARIMA/GARCH on the historical stock data!\n",
    "\n",
    "# There is higher volatility around 2008, when the trading volumes are higher\n",
    "# But volatility has also increased recently independently of trading volumes (Corona)\n",
    "# analyse corona behaviour compared to '08 crisis"
   ]
  },
  {
   "cell_type": "code",
   "execution_count": null,
   "metadata": {
    "hidden": true
   },
   "outputs": [],
   "source": [
    "show_company_fundamentals(gs)\n",
    "\n",
    "# peer groups are interesting! could look at if they do outperform their peers, or not!\n",
    "# can I get a list of all tickers within a certain peer group?"
   ]
  },
  {
   "cell_type": "code",
   "execution_count": null,
   "metadata": {
    "hidden": true
   },
   "outputs": [],
   "source": [
    "# show next event (earnings, etc)\n",
    "gs.calendar"
   ]
  },
  {
   "cell_type": "markdown",
   "metadata": {},
   "source": [
    "## Recommendations analysis"
   ]
  },
  {
   "cell_type": "code",
   "execution_count": null,
   "metadata": {},
   "outputs": [],
   "source": [
    "analyst_recommendations(tsla)"
   ]
  },
  {
   "cell_type": "code",
   "execution_count": null,
   "metadata": {},
   "outputs": [],
   "source": [
    "# here is a df with ratings, only looking at when we have a definitive \"up\" or \"down\"\n",
    "# analyse this more - when/how often/average rating changes, and how that relates to past and future stock movements\n",
    "\n",
    "tsla_rec = tsla.recommendations\n",
    "action_list = [\"up\", \"down\"]\n",
    "updown_df = tsla_rec.loc[tsla_rec.Action.isin(action_list)]\n",
    "updown_df.Action.value_counts()"
   ]
  },
  {
   "cell_type": "code",
   "execution_count": null,
   "metadata": {},
   "outputs": [],
   "source": [
    "updown_df[updown_df.Action == \"down\"]\n",
    "updown_df.Action.map(action_dict)"
   ]
  },
  {
   "cell_type": "code",
   "execution_count": null,
   "metadata": {},
   "outputs": [],
   "source": [
    "action_dict = {\"down\" : -1, \"up\" : 1}\n",
    "tmp = updown_df.Action.map(action_dict)\n",
    "tmp = tmp.to_period('M').groupby(pd.Grouper(freq=\"Q\")).mean()     # can also get std dev\n",
    "tmp = tmp.dropna(axis = 0)\n",
    "tmp.index = tmp.index.to_timestamp()\n",
    "\n",
    "plt.figure(figsize=(15, 5))\n",
    "plt.plot(tmp, 'o-', label = \"Average change\")\n",
    "plt.title(\"Quarterly rating change. 1 = up, -1 = down \")\n",
    "plt.legend()\n",
    "plt.show()"
   ]
  },
  {
   "cell_type": "code",
   "execution_count": null,
   "metadata": {},
   "outputs": [],
   "source": [
    "tmp = updown_df.Action.map(action_dict)\n",
    "tmp3 = tmp.to_period('M').groupby(pd.Grouper(freq=\"Q\")).std()\n",
    "tmp3.index = tmp3.index.to_timestamp()\n",
    "tmp3 = tmp3.dropna()\n",
    "\n",
    "plt.plot(tmp3, 'o-')\n",
    "plt.show()"
   ]
  },
  {
   "cell_type": "code",
   "execution_count": null,
   "metadata": {},
   "outputs": [],
   "source": [
    "plt.figure(figsize=(15,5))\n",
    "plt.plot(updown_df[updown_df.Action == \"down\"].Action, 'o-', label = \"Down\")\n",
    "plt.plot(updown_df[updown_df.Action == \"up\"].Action, 'o-', label = \"Up\")\n",
    "plt.legend()\n",
    "plt.show()"
   ]
  },
  {
   "cell_type": "code",
   "execution_count": null,
   "metadata": {},
   "outputs": [],
   "source": [
    "# use this; look for trends here. Also, how frequently a rating is changed is a sign of instability\n",
    "# tesla has many ratings at 1 or 5, giving an average around 3 for the quarter! This is not representative \n",
    "# (the fact that I just use the \"To rating\" doesn't help) - but not all stocks have a \"from rating\" column\n",
    "# also, is there a correlation between ratings from two institutions across different stocks? \n",
    "# Do they tend to increase ratings at same time etc?\n",
    "\n",
    "# Which ratings agencies are best at predicting? Rating change -> check stock behaviour for one year afterwards\n",
    "# and compare stock performance to its industry peers!"
   ]
  },
  {
   "cell_type": "markdown",
   "metadata": {
    "heading_collapsed": true
   },
   "source": [
    "## Option analysis"
   ]
  },
  {
   "cell_type": "code",
   "execution_count": null,
   "metadata": {
    "hidden": true
   },
   "outputs": [],
   "source": [
    "gs_options_expiry = gs.options\n",
    "gs_call = gs.option_chain(gs_options_expiry[0]).calls\n",
    "gs_call.head()"
   ]
  },
  {
   "cell_type": "code",
   "execution_count": null,
   "metadata": {
    "hidden": true
   },
   "outputs": [],
   "source": [
    "call_put_visualisation(gs)"
   ]
  },
  {
   "cell_type": "code",
   "execution_count": null,
   "metadata": {
    "hidden": true,
    "scrolled": false
   },
   "outputs": [],
   "source": [
    "option_spread_analysis(gs)"
   ]
  },
  {
   "cell_type": "markdown",
   "metadata": {},
   "source": [
    "# Future work"
   ]
  },
  {
   "cell_type": "code",
   "execution_count": null,
   "metadata": {},
   "outputs": [],
   "source": [
    "# how do spreads change over time wrt different trading dates? In/out of the money?\n",
    "# are ratings correlated with future stock values?\n",
    "# is a larger volume in put or call at any given time? do something clever here\n",
    "# have a look at the implied volatility - is there a skew?\n",
    "# make everything into functions and compare with other stocks!\n",
    "# correlation between stocks"
   ]
  },
  {
   "cell_type": "markdown",
   "metadata": {},
   "source": [
    "You can create a cell and put the following code in it:\n",
    "\n",
    "%%html\n",
    "<style>\n",
    "div.input {\n",
    "    display:none;\n",
    "}\n",
    "</style>\n",
    "Running this cell will hide all input cells. To show them back, you can use the menu to clear all outputs."
   ]
  }
 ],
 "metadata": {
  "kernelspec": {
   "display_name": "Python 3",
   "language": "python",
   "name": "python3"
  },
  "language_info": {
   "codemirror_mode": {
    "name": "ipython",
    "version": 3
   },
   "file_extension": ".py",
   "mimetype": "text/x-python",
   "name": "python",
   "nbconvert_exporter": "python",
   "pygments_lexer": "ipython3",
   "version": "3.7.6"
  }
 },
 "nbformat": 4,
 "nbformat_minor": 4
}
